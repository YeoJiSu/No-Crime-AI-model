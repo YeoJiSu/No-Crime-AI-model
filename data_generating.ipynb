{
  "nbformat": 4,
  "nbformat_minor": 0,
  "metadata": {
    "colab": {
      "provenance": []
    },
    "kernelspec": {
      "name": "python3",
      "display_name": "Python 3"
    },
    "language_info": {
      "name": "python"
    }
  },
  "cells": [
    {
      "cell_type": "markdown",
      "source": [
        "범죄 지수 계산<br>\n",
        "0~4<br>\n",
        "ex) 2021년 서울 종로 아파트 일요일 0시 일 때 절도 일어날 위험 지수<br>\n",
        "1+ 0.04 + 0.34 + 0 + 0 = 1.38 <br>\n",
        "<br>\n",
        "* 2014 ~ 2021 (8가지)\n",
        "* 장소 (7가지)\n",
        "* 요일 (7가지)\n",
        "* 시간대 (8가지)\n",
        "* 지역 (128가지)\n",
        "* 인구수 (1가지) -> 정규화"
      ],
      "metadata": {
        "id": "9OtYeGqAqxHH"
      }
    },
    {
      "cell_type": "code",
      "source": [
        "from google.colab import drive\n",
        "drive.mount('/content/drive')"
      ],
      "metadata": {
        "colab": {
          "base_uri": "https://localhost:8080/"
        },
        "id": "W6w3jw16uriH",
        "outputId": "293ccadf-e187-49ea-fc54-f33cb3b89b5f"
      },
      "execution_count": 3,
      "outputs": [
        {
          "output_type": "stream",
          "name": "stdout",
          "text": [
            "Drive already mounted at /content/drive; to attempt to forcibly remount, call drive.mount(\"/content/drive\", force_remount=True).\n"
          ]
        }
      ]
    },
    {
      "cell_type": "code",
      "source": [
        "import pandas as pd"
      ],
      "metadata": {
        "id": "56u81Ic2ux4n"
      },
      "execution_count": 4,
      "outputs": []
    },
    {
      "cell_type": "code",
      "source": [
        "pd.set_option('display.max_columns', None) # 전체 열 보기\n",
        "pd.set_option('display.max_rows', None) # 전체 행 보기"
      ],
      "metadata": {
        "id": "IPLZbn09uufb"
      },
      "execution_count": 5,
      "outputs": []
    },
    {
      "cell_type": "code",
      "source": [
        "year = 2014"
      ],
      "metadata": {
        "id": "n3kYqaZ4sHGk"
      },
      "execution_count": 103,
      "outputs": []
    },
    {
      "cell_type": "markdown",
      "source": [
        "### 데이터 생성"
      ],
      "metadata": {
        "id": "mycyFTo3sCqg"
      }
    },
    {
      "cell_type": "code",
      "source": [
        "df1 = pd.read_csv('/content/drive/MyDrive/산업인공지능 대회/preprocessed_data/'+str(year)+'-시간대별.csv', index_col = 0)\n",
        "df2 = pd.read_csv('/content/drive/MyDrive/산업인공지능 대회/preprocessed_data/'+str(year)+'-장소별.csv', index_col = 0)\n",
        "df3 = pd.read_csv('/content/drive/MyDrive/산업인공지능 대회/preprocessed_data/'+str(year)+'-요일별.csv', index_col = 0)\n",
        "df4 = pd.read_csv('/content/drive/MyDrive/산업인공지능 대회/preprocessed_data/'+str(year)+'-지역별.csv', index_col = 0)\n",
        "df5 = pd.read_csv('/content/drive/MyDrive/산업인공지능 대회/preprocessed_data/'+str(year)+'-인구수.csv', index_col = 0)"
      ],
      "metadata": {
        "id": "FnH1xuYlu2pC"
      },
      "execution_count": 111,
      "outputs": []
    },
    {
      "cell_type": "code",
      "source": [
        "_time = df1.columns # 라벨 인코딩\n",
        "_place = df2.columns # 라벨 인코딩\n",
        "_day = df3.columns # 라벨 인코딩\n",
        "_region = df4.columns # 라벨 인코딩"
      ],
      "metadata": {
        "id": "oVy6RejOvHOw"
      },
      "execution_count": 112,
      "outputs": []
    },
    {
      "cell_type": "code",
      "source": [
        "len(_region)"
      ],
      "metadata": {
        "colab": {
          "base_uri": "https://localhost:8080/"
        },
        "id": "3ln3J45KyTZg",
        "outputId": "bd8f1257-cb10-409c-cfa8-a80d3e431946"
      },
      "execution_count": 118,
      "outputs": [
        {
          "output_type": "execute_result",
          "data": {
            "text/plain": [
              "128"
            ]
          },
          "metadata": {},
          "execution_count": 118
        }
      ]
    },
    {
      "cell_type": "code",
      "execution_count": 113,
      "metadata": {
        "id": "VRphmoZrqIzn"
      },
      "outputs": [],
      "source": [
        "column = [\n",
        "    '위치','장소','요일','시간대','인구수','절도','살인','강도','성폭력','폭행',\n",
        "]"
      ]
    },
    {
      "cell_type": "code",
      "source": [
        "data = []\n",
        "for r in _region:\n",
        "  for p in _place:\n",
        "    for d in _day:\n",
        "      for t in _time:\n",
        "        \"\"\"\n",
        "        df1[t].values[]\n",
        "        df2[p].values[]\n",
        "        df3[d].values[]\n",
        "        df4[r].values[]\n",
        "        df5[r].values[0]\n",
        "        \"\"\"\n",
        "\n",
        "        juldo = df1[t].values[0] + df2[p].values[0] + df3[d].values[0] + df4[r].values[0]\n",
        "        salin = df1[t].values[1] + df2[p].values[1] + df3[d].values[1] + df4[r].values[1]\n",
        "        gangdo = df1[t].values[2] + df2[p].values[2] + df3[d].values[2] + df4[r].values[2]\n",
        "        sungpok = df1[t].values[3] + df2[p].values[3] + df3[d].values[3] + df4[r].values[3]\n",
        "        pokang = df1[t].values[4] + df2[p].values[4] + df3[d].values[4] + df4[r].values[4]\n",
        "\n",
        "        data.append([r,p,d,t,df5[r].values[0],juldo,salin,gangdo,sungpok,pokang])"
      ],
      "metadata": {
        "id": "UMsyEH47X_ZB"
      },
      "execution_count": 114,
      "outputs": []
    },
    {
      "cell_type": "code",
      "source": [
        "df = pd.DataFrame(data, columns=column)"
      ],
      "metadata": {
        "id": "kIvDfd_Wxlo7"
      },
      "execution_count": 115,
      "outputs": []
    },
    {
      "cell_type": "code",
      "source": [
        "df[20000:20010]"
      ],
      "metadata": {
        "colab": {
          "base_uri": "https://localhost:8080/",
          "height": 362
        },
        "id": "ch8S1S9vwkxR",
        "outputId": "84277cf5-6847-44c6-db9a-fce59fb7a038"
      },
      "execution_count": 116,
      "outputs": [
        {
          "output_type": "execute_result",
          "data": {
            "text/plain": [
              "          위치          장소 요일          시간대     인구수    절도    살인    강도   성폭력    폭행\n",
              "20000  대구달성군  아파트ㆍ연립ㆍ다세대  월  00:00-02:59  184902  0.52  1.74  2.16  0.69  0.70\n",
              "20001  대구달성군  아파트ㆍ연립ㆍ다세대  월  03:00-05:59  184902  0.51  1.78  2.39  0.76  0.54\n",
              "20002  대구달성군  아파트ㆍ연립ㆍ다세대  월  06:00-08:59  184902  0.36  1.55  1.39  0.59  0.23\n",
              "20003  대구달성군  아파트ㆍ연립ㆍ다세대  월  09:00-11:59  184902  0.86  1.87  1.42  0.55  0.28\n",
              "20004  대구달성군  아파트ㆍ연립ㆍ다세대  월  12:00-14:59  184902  0.94  1.84  1.55  0.61  0.29\n",
              "20005  대구달성군  아파트ㆍ연립ㆍ다세대  월  15:00-17:59  184902  1.11  1.95  1.53  0.94  0.39\n",
              "20006  대구달성군  아파트ㆍ연립ㆍ다세대  월  18:00-20:59  184902  1.36  2.33  1.66  1.17  0.64\n",
              "20007  대구달성군  아파트ㆍ연립ㆍ다세대  월  21:00-23:59  184902  1.12  2.55  1.95  1.55  1.23\n",
              "20008  대구달성군  아파트ㆍ연립ㆍ다세대  화  00:00-02:59  184902  0.70  2.26  1.16  1.58  0.94\n",
              "20009  대구달성군  아파트ㆍ연립ㆍ다세대  화  03:00-05:59  184902  0.69  2.30  1.39  1.65  0.78"
            ],
            "text/html": [
              "\n",
              "\n",
              "  <div id=\"df-f6b5eba9-ad6c-4c43-9093-f7c21163b12a\">\n",
              "    <div class=\"colab-df-container\">\n",
              "      <div>\n",
              "<style scoped>\n",
              "    .dataframe tbody tr th:only-of-type {\n",
              "        vertical-align: middle;\n",
              "    }\n",
              "\n",
              "    .dataframe tbody tr th {\n",
              "        vertical-align: top;\n",
              "    }\n",
              "\n",
              "    .dataframe thead th {\n",
              "        text-align: right;\n",
              "    }\n",
              "</style>\n",
              "<table border=\"1\" class=\"dataframe\">\n",
              "  <thead>\n",
              "    <tr style=\"text-align: right;\">\n",
              "      <th></th>\n",
              "      <th>위치</th>\n",
              "      <th>장소</th>\n",
              "      <th>요일</th>\n",
              "      <th>시간대</th>\n",
              "      <th>인구수</th>\n",
              "      <th>절도</th>\n",
              "      <th>살인</th>\n",
              "      <th>강도</th>\n",
              "      <th>성폭력</th>\n",
              "      <th>폭행</th>\n",
              "    </tr>\n",
              "  </thead>\n",
              "  <tbody>\n",
              "    <tr>\n",
              "      <th>20000</th>\n",
              "      <td>대구달성군</td>\n",
              "      <td>아파트ㆍ연립ㆍ다세대</td>\n",
              "      <td>월</td>\n",
              "      <td>00:00-02:59</td>\n",
              "      <td>184902</td>\n",
              "      <td>0.52</td>\n",
              "      <td>1.74</td>\n",
              "      <td>2.16</td>\n",
              "      <td>0.69</td>\n",
              "      <td>0.70</td>\n",
              "    </tr>\n",
              "    <tr>\n",
              "      <th>20001</th>\n",
              "      <td>대구달성군</td>\n",
              "      <td>아파트ㆍ연립ㆍ다세대</td>\n",
              "      <td>월</td>\n",
              "      <td>03:00-05:59</td>\n",
              "      <td>184902</td>\n",
              "      <td>0.51</td>\n",
              "      <td>1.78</td>\n",
              "      <td>2.39</td>\n",
              "      <td>0.76</td>\n",
              "      <td>0.54</td>\n",
              "    </tr>\n",
              "    <tr>\n",
              "      <th>20002</th>\n",
              "      <td>대구달성군</td>\n",
              "      <td>아파트ㆍ연립ㆍ다세대</td>\n",
              "      <td>월</td>\n",
              "      <td>06:00-08:59</td>\n",
              "      <td>184902</td>\n",
              "      <td>0.36</td>\n",
              "      <td>1.55</td>\n",
              "      <td>1.39</td>\n",
              "      <td>0.59</td>\n",
              "      <td>0.23</td>\n",
              "    </tr>\n",
              "    <tr>\n",
              "      <th>20003</th>\n",
              "      <td>대구달성군</td>\n",
              "      <td>아파트ㆍ연립ㆍ다세대</td>\n",
              "      <td>월</td>\n",
              "      <td>09:00-11:59</td>\n",
              "      <td>184902</td>\n",
              "      <td>0.86</td>\n",
              "      <td>1.87</td>\n",
              "      <td>1.42</td>\n",
              "      <td>0.55</td>\n",
              "      <td>0.28</td>\n",
              "    </tr>\n",
              "    <tr>\n",
              "      <th>20004</th>\n",
              "      <td>대구달성군</td>\n",
              "      <td>아파트ㆍ연립ㆍ다세대</td>\n",
              "      <td>월</td>\n",
              "      <td>12:00-14:59</td>\n",
              "      <td>184902</td>\n",
              "      <td>0.94</td>\n",
              "      <td>1.84</td>\n",
              "      <td>1.55</td>\n",
              "      <td>0.61</td>\n",
              "      <td>0.29</td>\n",
              "    </tr>\n",
              "    <tr>\n",
              "      <th>20005</th>\n",
              "      <td>대구달성군</td>\n",
              "      <td>아파트ㆍ연립ㆍ다세대</td>\n",
              "      <td>월</td>\n",
              "      <td>15:00-17:59</td>\n",
              "      <td>184902</td>\n",
              "      <td>1.11</td>\n",
              "      <td>1.95</td>\n",
              "      <td>1.53</td>\n",
              "      <td>0.94</td>\n",
              "      <td>0.39</td>\n",
              "    </tr>\n",
              "    <tr>\n",
              "      <th>20006</th>\n",
              "      <td>대구달성군</td>\n",
              "      <td>아파트ㆍ연립ㆍ다세대</td>\n",
              "      <td>월</td>\n",
              "      <td>18:00-20:59</td>\n",
              "      <td>184902</td>\n",
              "      <td>1.36</td>\n",
              "      <td>2.33</td>\n",
              "      <td>1.66</td>\n",
              "      <td>1.17</td>\n",
              "      <td>0.64</td>\n",
              "    </tr>\n",
              "    <tr>\n",
              "      <th>20007</th>\n",
              "      <td>대구달성군</td>\n",
              "      <td>아파트ㆍ연립ㆍ다세대</td>\n",
              "      <td>월</td>\n",
              "      <td>21:00-23:59</td>\n",
              "      <td>184902</td>\n",
              "      <td>1.12</td>\n",
              "      <td>2.55</td>\n",
              "      <td>1.95</td>\n",
              "      <td>1.55</td>\n",
              "      <td>1.23</td>\n",
              "    </tr>\n",
              "    <tr>\n",
              "      <th>20008</th>\n",
              "      <td>대구달성군</td>\n",
              "      <td>아파트ㆍ연립ㆍ다세대</td>\n",
              "      <td>화</td>\n",
              "      <td>00:00-02:59</td>\n",
              "      <td>184902</td>\n",
              "      <td>0.70</td>\n",
              "      <td>2.26</td>\n",
              "      <td>1.16</td>\n",
              "      <td>1.58</td>\n",
              "      <td>0.94</td>\n",
              "    </tr>\n",
              "    <tr>\n",
              "      <th>20009</th>\n",
              "      <td>대구달성군</td>\n",
              "      <td>아파트ㆍ연립ㆍ다세대</td>\n",
              "      <td>화</td>\n",
              "      <td>03:00-05:59</td>\n",
              "      <td>184902</td>\n",
              "      <td>0.69</td>\n",
              "      <td>2.30</td>\n",
              "      <td>1.39</td>\n",
              "      <td>1.65</td>\n",
              "      <td>0.78</td>\n",
              "    </tr>\n",
              "  </tbody>\n",
              "</table>\n",
              "</div>\n",
              "      <button class=\"colab-df-convert\" onclick=\"convertToInteractive('df-f6b5eba9-ad6c-4c43-9093-f7c21163b12a')\"\n",
              "              title=\"Convert this dataframe to an interactive table.\"\n",
              "              style=\"display:none;\">\n",
              "\n",
              "  <svg xmlns=\"http://www.w3.org/2000/svg\" height=\"24px\"viewBox=\"0 0 24 24\"\n",
              "       width=\"24px\">\n",
              "    <path d=\"M0 0h24v24H0V0z\" fill=\"none\"/>\n",
              "    <path d=\"M18.56 5.44l.94 2.06.94-2.06 2.06-.94-2.06-.94-.94-2.06-.94 2.06-2.06.94zm-11 1L8.5 8.5l.94-2.06 2.06-.94-2.06-.94L8.5 2.5l-.94 2.06-2.06.94zm10 10l.94 2.06.94-2.06 2.06-.94-2.06-.94-.94-2.06-.94 2.06-2.06.94z\"/><path d=\"M17.41 7.96l-1.37-1.37c-.4-.4-.92-.59-1.43-.59-.52 0-1.04.2-1.43.59L10.3 9.45l-7.72 7.72c-.78.78-.78 2.05 0 2.83L4 21.41c.39.39.9.59 1.41.59.51 0 1.02-.2 1.41-.59l7.78-7.78 2.81-2.81c.8-.78.8-2.07 0-2.86zM5.41 20L4 18.59l7.72-7.72 1.47 1.35L5.41 20z\"/>\n",
              "  </svg>\n",
              "      </button>\n",
              "\n",
              "\n",
              "\n",
              "    <div id=\"df-d7ccfd6f-eb59-40d1-9c66-e819805e08f8\">\n",
              "      <button class=\"colab-df-quickchart\" onclick=\"quickchart('df-d7ccfd6f-eb59-40d1-9c66-e819805e08f8')\"\n",
              "              title=\"Suggest charts.\"\n",
              "              style=\"display:none;\">\n",
              "\n",
              "<svg xmlns=\"http://www.w3.org/2000/svg\" height=\"24px\"viewBox=\"0 0 24 24\"\n",
              "     width=\"24px\">\n",
              "    <g>\n",
              "        <path d=\"M19 3H5c-1.1 0-2 .9-2 2v14c0 1.1.9 2 2 2h14c1.1 0 2-.9 2-2V5c0-1.1-.9-2-2-2zM9 17H7v-7h2v7zm4 0h-2V7h2v10zm4 0h-2v-4h2v4z\"/>\n",
              "    </g>\n",
              "</svg>\n",
              "      </button>\n",
              "    </div>\n",
              "\n",
              "<style>\n",
              "  .colab-df-quickchart {\n",
              "    background-color: #E8F0FE;\n",
              "    border: none;\n",
              "    border-radius: 50%;\n",
              "    cursor: pointer;\n",
              "    display: none;\n",
              "    fill: #1967D2;\n",
              "    height: 32px;\n",
              "    padding: 0 0 0 0;\n",
              "    width: 32px;\n",
              "  }\n",
              "\n",
              "  .colab-df-quickchart:hover {\n",
              "    background-color: #E2EBFA;\n",
              "    box-shadow: 0px 1px 2px rgba(60, 64, 67, 0.3), 0px 1px 3px 1px rgba(60, 64, 67, 0.15);\n",
              "    fill: #174EA6;\n",
              "  }\n",
              "\n",
              "  [theme=dark] .colab-df-quickchart {\n",
              "    background-color: #3B4455;\n",
              "    fill: #D2E3FC;\n",
              "  }\n",
              "\n",
              "  [theme=dark] .colab-df-quickchart:hover {\n",
              "    background-color: #434B5C;\n",
              "    box-shadow: 0px 1px 3px 1px rgba(0, 0, 0, 0.15);\n",
              "    filter: drop-shadow(0px 1px 2px rgba(0, 0, 0, 0.3));\n",
              "    fill: #FFFFFF;\n",
              "  }\n",
              "</style>\n",
              "\n",
              "    <script>\n",
              "      async function quickchart(key) {\n",
              "        const containerElement = document.querySelector('#' + key);\n",
              "        const charts = await google.colab.kernel.invokeFunction(\n",
              "            'suggestCharts', [key], {});\n",
              "      }\n",
              "    </script>\n",
              "\n",
              "      <script>\n",
              "\n",
              "function displayQuickchartButton(domScope) {\n",
              "  let quickchartButtonEl =\n",
              "    domScope.querySelector('#df-d7ccfd6f-eb59-40d1-9c66-e819805e08f8 button.colab-df-quickchart');\n",
              "  quickchartButtonEl.style.display =\n",
              "    google.colab.kernel.accessAllowed ? 'block' : 'none';\n",
              "}\n",
              "\n",
              "        displayQuickchartButton(document);\n",
              "      </script>\n",
              "      <style>\n",
              "    .colab-df-container {\n",
              "      display:flex;\n",
              "      flex-wrap:wrap;\n",
              "      gap: 12px;\n",
              "    }\n",
              "\n",
              "    .colab-df-convert {\n",
              "      background-color: #E8F0FE;\n",
              "      border: none;\n",
              "      border-radius: 50%;\n",
              "      cursor: pointer;\n",
              "      display: none;\n",
              "      fill: #1967D2;\n",
              "      height: 32px;\n",
              "      padding: 0 0 0 0;\n",
              "      width: 32px;\n",
              "    }\n",
              "\n",
              "    .colab-df-convert:hover {\n",
              "      background-color: #E2EBFA;\n",
              "      box-shadow: 0px 1px 2px rgba(60, 64, 67, 0.3), 0px 1px 3px 1px rgba(60, 64, 67, 0.15);\n",
              "      fill: #174EA6;\n",
              "    }\n",
              "\n",
              "    [theme=dark] .colab-df-convert {\n",
              "      background-color: #3B4455;\n",
              "      fill: #D2E3FC;\n",
              "    }\n",
              "\n",
              "    [theme=dark] .colab-df-convert:hover {\n",
              "      background-color: #434B5C;\n",
              "      box-shadow: 0px 1px 3px 1px rgba(0, 0, 0, 0.15);\n",
              "      filter: drop-shadow(0px 1px 2px rgba(0, 0, 0, 0.3));\n",
              "      fill: #FFFFFF;\n",
              "    }\n",
              "  </style>\n",
              "\n",
              "      <script>\n",
              "        const buttonEl =\n",
              "          document.querySelector('#df-f6b5eba9-ad6c-4c43-9093-f7c21163b12a button.colab-df-convert');\n",
              "        buttonEl.style.display =\n",
              "          google.colab.kernel.accessAllowed ? 'block' : 'none';\n",
              "\n",
              "        async function convertToInteractive(key) {\n",
              "          const element = document.querySelector('#df-f6b5eba9-ad6c-4c43-9093-f7c21163b12a');\n",
              "          const dataTable =\n",
              "            await google.colab.kernel.invokeFunction('convertToInteractive',\n",
              "                                                     [key], {});\n",
              "          if (!dataTable) return;\n",
              "\n",
              "          const docLinkHtml = 'Like what you see? Visit the ' +\n",
              "            '<a target=\"_blank\" href=https://colab.research.google.com/notebooks/data_table.ipynb>data table notebook</a>'\n",
              "            + ' to learn more about interactive tables.';\n",
              "          element.innerHTML = '';\n",
              "          dataTable['output_type'] = 'display_data';\n",
              "          await google.colab.output.renderOutput(dataTable, element);\n",
              "          const docLink = document.createElement('div');\n",
              "          docLink.innerHTML = docLinkHtml;\n",
              "          element.appendChild(docLink);\n",
              "        }\n",
              "      </script>\n",
              "    </div>\n",
              "  </div>\n"
            ]
          },
          "metadata": {},
          "execution_count": 116
        }
      ]
    },
    {
      "cell_type": "code",
      "source": [
        "df.to_csv('/content/drive/MyDrive/산업인공지능 대회/merged_data/'+str(year)+'.csv', index = False,encoding='utf-8')"
      ],
      "metadata": {
        "id": "y4DkxRmewp9T"
      },
      "execution_count": 117,
      "outputs": []
    }
  ]
}